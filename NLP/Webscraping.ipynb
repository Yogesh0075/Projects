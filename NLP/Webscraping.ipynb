{
 "cells": [
  {
   "cell_type": "markdown",
   "id": "e6ecd90b",
   "metadata": {},
   "source": [
    "--------------------------------------------------------------------------------------------------------------------------------"
   ]
  },
  {
   "cell_type": "markdown",
   "id": "0328ea1e",
   "metadata": {},
   "source": [
    "<b>WEBSCRAPING USING BEAUTIFULSOUP"
   ]
  },
  {
   "cell_type": "code",
   "execution_count": 1,
   "id": "be810550",
   "metadata": {},
   "outputs": [],
   "source": [
    "import requests\n",
    "from requests.adapters import HTTPAdapter\n",
    "from urllib3.util.retry import Retry\n",
    "from time import sleep\n",
    "from bs4 import BeautifulSoup"
   ]
  },
  {
   "cell_type": "code",
   "execution_count": 2,
   "id": "b9778d71",
   "metadata": {
    "scrolled": true
   },
   "outputs": [
    {
     "name": "stdout",
     "output_type": "stream",
     "text": [
      "Website not accessible, Status code is : 503\n",
      "Website not accessible, Status code is : 503\n",
      "Website not accessible, Status code is : 503\n",
      "Website not accessible, Status code is : 503\n",
      "Website not accessible, Status code is : 503\n",
      "Website not accessible, Status code is : 503\n",
      "Website not accessible, Status code is : 503\n",
      "Website not accessible, Status code is : 503\n",
      "Website not accessible, Status code is : 503\n",
      "Website not accessible, Status code is : 503\n",
      "\n"
     ]
    }
   ],
   "source": [
    "scraped_text = ''\n",
    "\n",
    "for i in range(1,11):\n",
    "    url = f'https://www.amazon.in/Samsung-Galaxy-Green-128GB-Storage/product-reviews/B0BY8PYVS6/ref=cm_cr_getr_d_paging_btm_next_2?ie=UTF8&reviewerType=all_reviews&pageNumber={i}'\n",
    "\n",
    "    r = requests.get(url)\n",
    "    \n",
    "    sleep(5)\n",
    "\n",
    "    if r.status_code!= 200:\n",
    "    \n",
    "        print('Website not accessible, Status code is :',r.status_code)\n",
    "        exit()\n",
    "\n",
    "    else:\n",
    "        soup = BeautifulSoup(r.text, 'html.parser')\n",
    "        review = soup.find_all('div' , {'data-hook' : 'review'})\n",
    "    \n",
    "        if review is not None:\n",
    "        \n",
    "            for item in review:\n",
    "                scraped_text += (item.find('span' , {'data-hook' : {'review-body'}}).get_text(strip=True) + '\\n')\n",
    "    \n",
    "        else:\n",
    "        \n",
    "            print('Last Page')\n",
    "        \n",
    "        \n",
    "print(scraped_text)"
   ]
  },
  {
   "cell_type": "code",
   "execution_count": 1,
   "id": "1beb9329",
   "metadata": {},
   "outputs": [
    {
     "ename": "FileNotFoundError",
     "evalue": "[Errno 2] No such file or directory: 'C:\\\\Users\\\\CSC\\\\Desktop\\\\jup\\\\Excelr Assignment Solutions\\\\scraped_text.txt'",
     "output_type": "error",
     "traceback": [
      "\u001b[1;31m---------------------------------------------------------------------------\u001b[0m",
      "\u001b[1;31mFileNotFoundError\u001b[0m                         Traceback (most recent call last)",
      "Cell \u001b[1;32mIn[1], line 1\u001b[0m\n\u001b[1;32m----> 1\u001b[0m \u001b[38;5;28;01mwith\u001b[39;00m \u001b[38;5;28;43mopen\u001b[39;49m\u001b[43m(\u001b[49m\u001b[38;5;124;43mr\u001b[39;49m\u001b[38;5;124;43m'\u001b[39;49m\u001b[38;5;124;43mC:\u001b[39;49m\u001b[38;5;124;43m\\\u001b[39;49m\u001b[38;5;124;43mUsers\u001b[39;49m\u001b[38;5;124;43m\\\u001b[39;49m\u001b[38;5;124;43mCSC\u001b[39;49m\u001b[38;5;124;43m\\\u001b[39;49m\u001b[38;5;124;43mDesktop\u001b[39;49m\u001b[38;5;124;43m\\\u001b[39;49m\u001b[38;5;124;43mjup\u001b[39;49m\u001b[38;5;124;43m\\\u001b[39;49m\u001b[38;5;124;43mExcelr Assignment Solutions\u001b[39;49m\u001b[38;5;124;43m\\\u001b[39;49m\u001b[38;5;124;43mscraped_text.txt\u001b[39;49m\u001b[38;5;124;43m'\u001b[39;49m\u001b[43m,\u001b[49m\u001b[38;5;124;43m'\u001b[39;49m\u001b[38;5;124;43mr\u001b[39;49m\u001b[38;5;124;43m'\u001b[39;49m\u001b[43m,\u001b[49m\u001b[43mencoding\u001b[49m\u001b[38;5;241;43m=\u001b[39;49m\u001b[43m \u001b[49m\u001b[38;5;124;43m'\u001b[39;49m\u001b[38;5;124;43mutf-8\u001b[39;49m\u001b[38;5;124;43m'\u001b[39;49m\u001b[43m)\u001b[49m \u001b[38;5;28;01mas\u001b[39;00m file:\n\u001b[0;32m      2\u001b[0m     scraped_text \u001b[38;5;241m=\u001b[39m file\u001b[38;5;241m.\u001b[39mread\n",
      "File \u001b[1;32mD:\\Anaconda\\Installation\\lib\\site-packages\\IPython\\core\\interactiveshell.py:286\u001b[0m, in \u001b[0;36m_modified_open\u001b[1;34m(file, *args, **kwargs)\u001b[0m\n\u001b[0;32m    279\u001b[0m \u001b[38;5;28;01mif\u001b[39;00m file \u001b[38;5;129;01min\u001b[39;00m {\u001b[38;5;241m0\u001b[39m, \u001b[38;5;241m1\u001b[39m, \u001b[38;5;241m2\u001b[39m}:\n\u001b[0;32m    280\u001b[0m     \u001b[38;5;28;01mraise\u001b[39;00m \u001b[38;5;167;01mValueError\u001b[39;00m(\n\u001b[0;32m    281\u001b[0m         \u001b[38;5;124mf\u001b[39m\u001b[38;5;124m\"\u001b[39m\u001b[38;5;124mIPython won\u001b[39m\u001b[38;5;124m'\u001b[39m\u001b[38;5;124mt let you open fd=\u001b[39m\u001b[38;5;132;01m{\u001b[39;00mfile\u001b[38;5;132;01m}\u001b[39;00m\u001b[38;5;124m by default \u001b[39m\u001b[38;5;124m\"\u001b[39m\n\u001b[0;32m    282\u001b[0m         \u001b[38;5;124m\"\u001b[39m\u001b[38;5;124mas it is likely to crash IPython. If you know what you are doing, \u001b[39m\u001b[38;5;124m\"\u001b[39m\n\u001b[0;32m    283\u001b[0m         \u001b[38;5;124m\"\u001b[39m\u001b[38;5;124myou can use builtins\u001b[39m\u001b[38;5;124m'\u001b[39m\u001b[38;5;124m open.\u001b[39m\u001b[38;5;124m\"\u001b[39m\n\u001b[0;32m    284\u001b[0m     )\n\u001b[1;32m--> 286\u001b[0m \u001b[38;5;28;01mreturn\u001b[39;00m io_open(file, \u001b[38;5;241m*\u001b[39margs, \u001b[38;5;241m*\u001b[39m\u001b[38;5;241m*\u001b[39mkwargs)\n",
      "\u001b[1;31mFileNotFoundError\u001b[0m: [Errno 2] No such file or directory: 'C:\\\\Users\\\\CSC\\\\Desktop\\\\jup\\\\Excelr Assignment Solutions\\\\scraped_text.txt'"
     ]
    }
   ],
   "source": [
    "with open(r'C:\\Users\\CSC\\Desktop\\jup\\Excelr Assignment Solutions\\scraped_text.txt','r',encoding= 'utf-8') as file:\n",
    "    scraped_text = file.read"
   ]
  },
  {
   "cell_type": "code",
   "execution_count": 1,
   "id": "7d4d2e92",
   "metadata": {},
   "outputs": [
    {
     "ename": "KeyError",
     "evalue": "'joy'",
     "output_type": "error",
     "traceback": [
      "\u001b[1;31m---------------------------------------------------------------------------\u001b[0m",
      "\u001b[1;31mKeyError\u001b[0m                                  Traceback (most recent call last)",
      "Cell \u001b[1;32mIn[1], line 23\u001b[0m\n\u001b[0;32m     21\u001b[0m         token_emotions \u001b[38;5;241m=\u001b[39m lexicon_emotion[token]\n\u001b[0;32m     22\u001b[0m         \u001b[38;5;28;01mfor\u001b[39;00m emotion \u001b[38;5;129;01min\u001b[39;00m token_emotions:\n\u001b[1;32m---> 23\u001b[0m             emotion_counters[emotion] \u001b[38;5;241m+\u001b[39m\u001b[38;5;241m=\u001b[39m \u001b[38;5;241m1\u001b[39m\n\u001b[0;32m     25\u001b[0m \u001b[38;5;66;03m# Print the emotion counts\u001b[39;00m\n\u001b[0;32m     26\u001b[0m \u001b[38;5;28;01mfor\u001b[39;00m emotion, count \u001b[38;5;129;01min\u001b[39;00m emotion_counters\u001b[38;5;241m.\u001b[39mitems():\n",
      "\u001b[1;31mKeyError\u001b[0m: 'joy'"
     ]
    }
   ],
   "source": [
    "emotions_list = [\"happy\", \"sad\", \"angry\", \"surprised\", \"neutral\"]\n",
    "\n",
    "# Initialize the emotion counters dictionary\n",
    "emotion_counters = {emotion: 0 for emotion in emotions_list}\n",
    "\n",
    "# Example token_reviews (list of tokens from text data)\n",
    "token_reviews = [\"happy\", \"sad\", \"happy\", \"angry\", \"surprised\", \"happy\", \"neutral\"]\n",
    "\n",
    "# Example lexicon_emotion (dictionary mapping tokens to emotions)\n",
    "lexicon_emotion = {\n",
    "    \"happy\": [\"happy\", \"joy\"],\n",
    "    \"sad\": [\"sad\", \"unhappy\"],\n",
    "    \"angry\": [\"angry\", \"irritated\"],\n",
    "    \"surprised\": [\"surprised\", \"shocked\"],\n",
    "    \"neutral\": [\"neutral\", \"calm\"]\n",
    "}\n",
    "\n",
    "# Iterate through tokens and update emotion counters\n",
    "for token in token_reviews:\n",
    "    if token in lexicon_emotion:\n",
    "        token_emotions = lexicon_emotion[token]\n",
    "        for emotion in token_emotions:\n",
    "            emotion_counters[emotion] += 1\n",
    "\n",
    "# Print the emotion counts\n",
    "for emotion, count in emotion_counters.items():\n",
    "    print(f\"{emotion}: {count}\")"
   ]
  },
  {
   "cell_type": "code",
   "execution_count": null,
   "id": "d4ddff57",
   "metadata": {},
   "outputs": [],
   "source": []
  }
 ],
 "metadata": {
  "kernelspec": {
   "display_name": "Python 3 (ipykernel)",
   "language": "python",
   "name": "python3"
  },
  "language_info": {
   "codemirror_mode": {
    "name": "ipython",
    "version": 3
   },
   "file_extension": ".py",
   "mimetype": "text/x-python",
   "name": "python",
   "nbconvert_exporter": "python",
   "pygments_lexer": "ipython3",
   "version": "3.10.13"
  }
 },
 "nbformat": 4,
 "nbformat_minor": 5
}
